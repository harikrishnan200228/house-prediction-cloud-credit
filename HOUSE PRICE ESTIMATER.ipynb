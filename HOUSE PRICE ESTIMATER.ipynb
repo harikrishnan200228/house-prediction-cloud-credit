{
 "cells": [
  {
   "cell_type": "markdown",
   "id": "e11fc7bd",
   "metadata": {},
   "source": [
    "# HOUSE PRICE ESTIMETER"
   ]
  },
  {
   "cell_type": "markdown",
   "id": "fe2d0cb3",
   "metadata": {},
   "source": [
    "# load the data"
   ]
  },
  {
   "cell_type": "code",
   "execution_count": 1,
   "id": "068cdd26",
   "metadata": {},
   "outputs": [
    {
     "name": "stdout",
     "output_type": "stream",
     "text": [
      "<class 'pandas.core.frame.DataFrame'>\n",
      "RangeIndex: 545 entries, 0 to 544\n",
      "Data columns (total 13 columns):\n",
      " #   Column            Non-Null Count  Dtype \n",
      "---  ------            --------------  ----- \n",
      " 0   price             545 non-null    int64 \n",
      " 1   area              545 non-null    int64 \n",
      " 2   bedrooms          545 non-null    int64 \n",
      " 3   bathrooms         545 non-null    int64 \n",
      " 4   stories           545 non-null    int64 \n",
      " 5   mainroad          545 non-null    object\n",
      " 6   guestroom         545 non-null    object\n",
      " 7   basement          545 non-null    object\n",
      " 8   hotwaterheating   545 non-null    object\n",
      " 9   airconditioning   545 non-null    object\n",
      " 10  parking           545 non-null    int64 \n",
      " 11  prefarea          545 non-null    object\n",
      " 12  furnishingstatus  545 non-null    object\n",
      "dtypes: int64(6), object(7)\n",
      "memory usage: 55.5+ KB\n"
     ]
    },
    {
     "data": {
      "text/plain": [
       "((545, 13),\n",
       "       price  area  bedrooms  bathrooms  stories mainroad guestroom basement  \\\n",
       " 0  13300000  7420         4          2        3      yes        no       no   \n",
       " 1  12250000  8960         4          4        4      yes        no       no   \n",
       " 2  12250000  9960         3          2        2      yes        no      yes   \n",
       " 3  12215000  7500         4          2        2      yes        no      yes   \n",
       " 4  11410000  7420         4          1        2      yes       yes      yes   \n",
       " \n",
       "   hotwaterheating airconditioning  parking prefarea furnishingstatus  \n",
       " 0              no             yes        2      yes        furnished  \n",
       " 1              no             yes        3       no        furnished  \n",
       " 2              no              no        2      yes   semi-furnished  \n",
       " 3              no             yes        3      yes        furnished  \n",
       " 4              no             yes        2       no        furnished  ,\n",
       "               price          area    bedrooms   bathrooms     stories  \\\n",
       " count  5.450000e+02    545.000000  545.000000  545.000000  545.000000   \n",
       " mean   4.766729e+06   5150.541284    2.965138    1.286239    1.805505   \n",
       " std    1.870440e+06   2170.141023    0.738064    0.502470    0.867492   \n",
       " min    1.750000e+06   1650.000000    1.000000    1.000000    1.000000   \n",
       " 25%    3.430000e+06   3600.000000    2.000000    1.000000    1.000000   \n",
       " 50%    4.340000e+06   4600.000000    3.000000    1.000000    2.000000   \n",
       " 75%    5.740000e+06   6360.000000    3.000000    2.000000    2.000000   \n",
       " max    1.330000e+07  16200.000000    6.000000    4.000000    4.000000   \n",
       " \n",
       "           parking  \n",
       " count  545.000000  \n",
       " mean     0.693578  \n",
       " std      0.861586  \n",
       " min      0.000000  \n",
       " 25%      0.000000  \n",
       " 50%      0.000000  \n",
       " 75%      1.000000  \n",
       " max      3.000000  ,\n",
       " price               0\n",
       " area                0\n",
       " bedrooms            0\n",
       " bathrooms           0\n",
       " stories             0\n",
       " mainroad            0\n",
       " guestroom           0\n",
       " basement            0\n",
       " hotwaterheating     0\n",
       " airconditioning     0\n",
       " parking             0\n",
       " prefarea            0\n",
       " furnishingstatus    0\n",
       " dtype: int64)"
      ]
     },
     "execution_count": 1,
     "metadata": {},
     "output_type": "execute_result"
    }
   ],
   "source": [
    "import pandas as pd\n",
    "\n",
    "# Load the housing dataset\n",
    "file_path = \"/mnt/data/Housing.csv\"\n",
    "df = pd.read_csv(r\"C:\\Users\\SS\\Downloads\\Housing.csv\")\n",
    "\n",
    "# Display basic information about the dataset\n",
    "df_info = df.info()\n",
    "df_shape = df.shape\n",
    "df_head = df.head()\n",
    "df_description = df.describe()\n",
    "df_missing = df.isnull().sum()\n",
    "\n",
    "(df_shape, df_head, df_description, df_missing)\n"
   ]
  },
  {
   "cell_type": "markdown",
   "id": "7050fc39",
   "metadata": {},
   "source": [
    "# Data Preprocessing"
   ]
  },
  {
   "cell_type": "code",
   "execution_count": 2,
   "id": "67cf7c30",
   "metadata": {},
   "outputs": [
    {
     "data": {
      "text/html": [
       "<div>\n",
       "<style scoped>\n",
       "    .dataframe tbody tr th:only-of-type {\n",
       "        vertical-align: middle;\n",
       "    }\n",
       "\n",
       "    .dataframe tbody tr th {\n",
       "        vertical-align: top;\n",
       "    }\n",
       "\n",
       "    .dataframe thead th {\n",
       "        text-align: right;\n",
       "    }\n",
       "</style>\n",
       "<table border=\"1\" class=\"dataframe\">\n",
       "  <thead>\n",
       "    <tr style=\"text-align: right;\">\n",
       "      <th></th>\n",
       "      <th>price</th>\n",
       "      <th>area</th>\n",
       "      <th>bedrooms</th>\n",
       "      <th>bathrooms</th>\n",
       "      <th>stories</th>\n",
       "      <th>mainroad</th>\n",
       "      <th>guestroom</th>\n",
       "      <th>basement</th>\n",
       "      <th>hotwaterheating</th>\n",
       "      <th>airconditioning</th>\n",
       "      <th>parking</th>\n",
       "      <th>prefarea</th>\n",
       "      <th>furnishingstatus</th>\n",
       "    </tr>\n",
       "  </thead>\n",
       "  <tbody>\n",
       "    <tr>\n",
       "      <th>0</th>\n",
       "      <td>13300000</td>\n",
       "      <td>7420</td>\n",
       "      <td>4</td>\n",
       "      <td>2</td>\n",
       "      <td>3</td>\n",
       "      <td>1</td>\n",
       "      <td>0</td>\n",
       "      <td>0</td>\n",
       "      <td>0</td>\n",
       "      <td>1</td>\n",
       "      <td>2</td>\n",
       "      <td>1</td>\n",
       "      <td>0</td>\n",
       "    </tr>\n",
       "    <tr>\n",
       "      <th>1</th>\n",
       "      <td>12250000</td>\n",
       "      <td>8960</td>\n",
       "      <td>4</td>\n",
       "      <td>4</td>\n",
       "      <td>4</td>\n",
       "      <td>1</td>\n",
       "      <td>0</td>\n",
       "      <td>0</td>\n",
       "      <td>0</td>\n",
       "      <td>1</td>\n",
       "      <td>3</td>\n",
       "      <td>0</td>\n",
       "      <td>0</td>\n",
       "    </tr>\n",
       "    <tr>\n",
       "      <th>2</th>\n",
       "      <td>12250000</td>\n",
       "      <td>9960</td>\n",
       "      <td>3</td>\n",
       "      <td>2</td>\n",
       "      <td>2</td>\n",
       "      <td>1</td>\n",
       "      <td>0</td>\n",
       "      <td>1</td>\n",
       "      <td>0</td>\n",
       "      <td>0</td>\n",
       "      <td>2</td>\n",
       "      <td>1</td>\n",
       "      <td>1</td>\n",
       "    </tr>\n",
       "    <tr>\n",
       "      <th>3</th>\n",
       "      <td>12215000</td>\n",
       "      <td>7500</td>\n",
       "      <td>4</td>\n",
       "      <td>2</td>\n",
       "      <td>2</td>\n",
       "      <td>1</td>\n",
       "      <td>0</td>\n",
       "      <td>1</td>\n",
       "      <td>0</td>\n",
       "      <td>1</td>\n",
       "      <td>3</td>\n",
       "      <td>1</td>\n",
       "      <td>0</td>\n",
       "    </tr>\n",
       "    <tr>\n",
       "      <th>4</th>\n",
       "      <td>11410000</td>\n",
       "      <td>7420</td>\n",
       "      <td>4</td>\n",
       "      <td>1</td>\n",
       "      <td>2</td>\n",
       "      <td>1</td>\n",
       "      <td>1</td>\n",
       "      <td>1</td>\n",
       "      <td>0</td>\n",
       "      <td>1</td>\n",
       "      <td>2</td>\n",
       "      <td>0</td>\n",
       "      <td>0</td>\n",
       "    </tr>\n",
       "  </tbody>\n",
       "</table>\n",
       "</div>"
      ],
      "text/plain": [
       "      price  area  bedrooms  bathrooms  stories  mainroad  guestroom  \\\n",
       "0  13300000  7420         4          2        3         1          0   \n",
       "1  12250000  8960         4          4        4         1          0   \n",
       "2  12250000  9960         3          2        2         1          0   \n",
       "3  12215000  7500         4          2        2         1          0   \n",
       "4  11410000  7420         4          1        2         1          1   \n",
       "\n",
       "   basement  hotwaterheating  airconditioning  parking  prefarea  \\\n",
       "0         0                0                1        2         1   \n",
       "1         0                0                1        3         0   \n",
       "2         1                0                0        2         1   \n",
       "3         1                0                1        3         1   \n",
       "4         1                0                1        2         0   \n",
       "\n",
       "   furnishingstatus  \n",
       "0                 0  \n",
       "1                 0  \n",
       "2                 1  \n",
       "3                 0  \n",
       "4                 0  "
      ]
     },
     "execution_count": 2,
     "metadata": {},
     "output_type": "execute_result"
    }
   ],
   "source": [
    "from sklearn.preprocessing import LabelEncoder\n",
    "\n",
    "# Create a copy of the dataframe for preprocessing\n",
    "df_encoded = df.copy()\n",
    "\n",
    "# Identify categorical columns\n",
    "categorical_cols = df_encoded.select_dtypes(include=['object']).columns\n",
    "\n",
    "# Apply Label Encoding to all categorical columns\n",
    "label_encoders = {}\n",
    "for col in categorical_cols:\n",
    "    le = LabelEncoder()\n",
    "    df_encoded[col] = le.fit_transform(df_encoded[col])\n",
    "    label_encoders[col] = le  # Store the encoder for possible inverse transformation\n",
    "\n",
    "# Display the encoded dataframe's first few rows\n",
    "df_encoded.head()\n"
   ]
  },
  {
   "cell_type": "markdown",
   "id": "229524a9",
   "metadata": {},
   "source": [
    "#  Feature Engineering and Train/Test Split"
   ]
  },
  {
   "cell_type": "code",
   "execution_count": 3,
   "id": "db45e06d",
   "metadata": {},
   "outputs": [
    {
     "data": {
      "text/plain": [
       "((436, 12), (109, 12), (436,), (109,))"
      ]
     },
     "execution_count": 3,
     "metadata": {},
     "output_type": "execute_result"
    }
   ],
   "source": [
    "from sklearn.model_selection import train_test_split\n",
    "\n",
    "# Define features (X) and target (y)\n",
    "X = df_encoded.drop(\"price\", axis=1)\n",
    "y = df_encoded[\"price\"]\n",
    "\n",
    "# Split into training and testing sets (80% train, 20% test)\n",
    "X_train, X_test, y_train, y_test = train_test_split(X, y, test_size=0.2, random_state=42)\n",
    "\n",
    "# Output the shapes of the split datasets\n",
    "X_train.shape, X_test.shape, y_train.shape, y_test.shape\n"
   ]
  },
  {
   "cell_type": "markdown",
   "id": "32aea7a0",
   "metadata": {},
   "source": [
    "# Model Selection and Training"
   ]
  },
  {
   "cell_type": "code",
   "execution_count": 4,
   "id": "ebf107c5",
   "metadata": {},
   "outputs": [
    {
     "data": {
      "text/plain": [
       "(979679.6912959905, np.float64(1331071.4167895105), 0.6494754192267804)"
      ]
     },
     "execution_count": 4,
     "metadata": {},
     "output_type": "execute_result"
    }
   ],
   "source": [
    "from sklearn.linear_model import LinearRegression\n",
    "from sklearn.metrics import mean_absolute_error, mean_squared_error, r2_score\n",
    "import numpy as np\n",
    "\n",
    "# Initialize and train a Linear Regression model\n",
    "lr_model = LinearRegression()\n",
    "lr_model.fit(X_train, y_train)\n",
    "\n",
    "# Predict on test data\n",
    "y_pred = lr_model.predict(X_test)\n",
    "\n",
    "# Evaluate the model\n",
    "mae = mean_absolute_error(y_test, y_pred)\n",
    "rmse = np.sqrt(mean_squared_error(y_test, y_pred))\n",
    "r2 = r2_score(y_test, y_pred)\n",
    "\n",
    "(mae, rmse, r2)\n"
   ]
  },
  {
   "cell_type": "markdown",
   "id": "f79c25dc",
   "metadata": {},
   "source": [
    "# Visualizing Results\n"
   ]
  },
  {
   "cell_type": "code",
   "execution_count": 5,
   "id": "98c93d4f",
   "metadata": {},
   "outputs": [
    {
     "data": {
      "image/png": "[encoded data removed]",
      "text/plain": [
       "<Figure size 800x600 with 1 Axes>"
      ]
     },
     "metadata": {},
     "output_type": "display_data"
    }
   ],
   "source": [
    "import matplotlib.pyplot as plt\n",
    "\n",
    "# Predict using the test data\n",
    "y_pred = lr_model.predict(X_test)\n",
    "\n",
    "# Plot Actual vs Predicted\n",
    "plt.figure(figsize=(8, 6))\n",
    "plt.scatter(y_test, y_pred, alpha=0.7, color='dodgerblue', edgecolor='k')\n",
    "plt.plot([y_test.min(), y_test.max()], [y_test.min(), y_test.max()], color='red', lw=2)\n",
    "plt.xlabel('Actual Price')\n",
    "plt.ylabel('Predicted Price')\n",
    "plt.title('Actual vs Predicted Housing Prices')\n",
    "plt.grid(True)\n",
    "plt.show()\n"
   ]
  },
  {
   "cell_type": "markdown",
   "id": "862a9a64",
   "metadata": {},
   "source": [
    "# SAVE THE MODEL\n"
   ]
  },
  {
   "cell_type": "markdown",
   "id": "bee98fd2",
   "metadata": {},
   "source": []
  },
  {
   "cell_type": "code",
   "execution_count": 6,
   "id": "71c7a0dd",
   "metadata": {},
   "outputs": [
    {
     "data": {
      "text/plain": [
       "['label_encoders.joblib']"
      ]
     },
     "execution_count": 6,
     "metadata": {},
     "output_type": "execute_result"
    }
   ],
   "source": [
    "import joblib\n",
    "\n",
    "# Save the trained model\n",
    "joblib.dump(lr_model, \"linear_regression_model.joblib\")\n",
    "\n",
    "# Optionally, save the label encoders if needed for decoding later\n",
    "joblib.dump(label_encoders, \"label_encoders.joblib\")\n"
   ]
  }
 ],
 "metadata": {
  "kernelspec": {
   "display_name": "Python (myenv)",
   "language": "python",
   "name": "myenv"
  },
  "language_info": {
   "codemirror_mode": {
    "name": "ipython",
    "version": 3
   },
   "file_extension": ".py",
   "mimetype": "text/x-python",
   "name": "python",
   "nbconvert_exporter": "python",
   "pygments_lexer": "ipython3",
   "version": "3.13.2"
  }
 },
 "nbformat": 4,
 "nbformat_minor": 5
}
